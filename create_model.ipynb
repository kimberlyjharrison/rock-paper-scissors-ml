{
 "cells": [
  {
   "cell_type": "markdown",
   "metadata": {},
   "source": [
    "# Notebook to Create CNN Model for Rock, Paper, Scissors\n",
    "\n",
    "<hr>\n",
    "\n",
    "## Contributors: K. Harrison, H. Orrantia\n",
    "\n",
    "<hr>\n",
    "\n",
    "### Libraries: TensorFlow, Keras, SKLearn, Pandas, Numpy, MatplotLib"
   ]
  },
  {
   "cell_type": "code",
   "execution_count": 1,
   "metadata": {},
   "outputs": [
    {
     "name": "stderr",
     "output_type": "stream",
     "text": [
      "Using TensorFlow backend.\n"
     ]
    }
   ],
   "source": [
    "## Import dependencies\n",
    "import tensorflow\n",
    "from tensorflow import keras\n",
    "from tensorflow.keras.models import Sequential\n",
    "from tensorflow.keras.layers import Dense, Conv2D, MaxPooling2D, Dropout, Flatten\n",
    "from tensorflow.keras.preprocessing import image\n",
    "from keras.utils import np_utils\n",
    "from sklearn.model_selection import train_test_split\n",
    "import pandas as pd\n",
    "import numpy as np\n",
    "from IPython.display import Image, SVG\n",
    "import matplotlib.pyplot as plt\n",
    "import os"
   ]
  },
  {
   "cell_type": "code",
   "execution_count": 2,
   "metadata": {},
   "outputs": [],
   "source": [
    "## Read in CSV file created in to_csv notebook (1200 samples of each gesture)\n",
    "data = pd.read_csv(\"rps_data_1200.csv\")\n",
    "\n",
    "## Convert datat to numpy array\n",
    "dataset = np.array(data)\n",
    "\n",
    "## Define features and scale by 255\n",
    "features = dataset[:, 0:2500]\n",
    "features = features / 255.\n",
    "\n",
    "## Define labels (csv formatted so that label is last column) and reshape\n",
    "labels = dataset[:, 2500]\n",
    "labels = labels.reshape(labels.shape[0], 1)"
   ]
  },
  {
   "cell_type": "code",
   "execution_count": 3,
   "metadata": {},
   "outputs": [],
   "source": [
    "## Train, Test, Split dataset\n",
    "train_x, test_x, train_y, test_y = train_test_split(features, labels, random_state=0, test_size=0.2)"
   ]
  },
  {
   "cell_type": "code",
   "execution_count": 4,
   "metadata": {},
   "outputs": [],
   "source": [
    "## One-hot encode label data using to_categorical\n",
    "train_y = np_utils.to_categorical(train_y)\n",
    "test_y = np_utils.to_categorical(test_y)\n",
    "\n",
    "## Reshape pixed data from 2500x1 to 50x50x1\n",
    "train_x = train_x.reshape(train_x.shape[0], 50, 50, 1)\n",
    "test_x = test_x.reshape(test_x.shape[0], 50, 50, 1)"
   ]
  },
  {
   "cell_type": "code",
   "execution_count": 5,
   "metadata": {},
   "outputs": [
    {
     "name": "stdout",
     "output_type": "stream",
     "text": [
      "WARNING:tensorflow:From /Users/kimberlyjharrison/anaconda3/envs/rps/lib/python3.6/site-packages/tensorflow/python/ops/resource_variable_ops.py:435: colocate_with (from tensorflow.python.framework.ops) is deprecated and will be removed in a future version.\n",
      "Instructions for updating:\n",
      "Colocations handled automatically by placer.\n",
      "WARNING:tensorflow:From /Users/kimberlyjharrison/anaconda3/envs/rps/lib/python3.6/site-packages/tensorflow/python/keras/layers/core.py:143: calling dropout (from tensorflow.python.ops.nn_ops) with keep_prob is deprecated and will be removed in a future version.\n",
      "Instructions for updating:\n",
      "Please use `rate` instead of `keep_prob`. Rate should be set to `rate = 1 - keep_prob`.\n"
     ]
    }
   ],
   "source": [
    "## Create CNN model with 3 categories\n",
    "model = tensorflow.keras.Sequential()\n",
    "model.add(Conv2D(32, (3,3), input_shape=train_x.shape[1:], activation='relu'))\n",
    "model.add(MaxPooling2D(pool_size=(2,2), padding='same'))\n",
    "model.add(Conv2D(64, (3,3), activation='relu'))\n",
    "model.add(MaxPooling2D(pool_size=(5,5), padding='same'))\n",
    "model.add(Flatten())\n",
    "model.add(Dense(1024, activation='relu'))\n",
    "model.add(Dropout(0.4))\n",
    "model.add(Dense(3, activation='softmax'))\n",
    "\n",
    "##compile model\n",
    "model.compile(loss='categorical_crossentropy', optimizer='adam', metrics=['accuracy'])"
   ]
  },
  {
   "cell_type": "code",
   "execution_count": 6,
   "metadata": {},
   "outputs": [
    {
     "name": "stdout",
     "output_type": "stream",
     "text": [
      "WARNING:tensorflow:From /Users/kimberlyjharrison/anaconda3/envs/rps/lib/python3.6/site-packages/tensorflow/python/ops/math_ops.py:3066: to_int32 (from tensorflow.python.ops.math_ops) is deprecated and will be removed in a future version.\n",
      "Instructions for updating:\n",
      "Use tf.cast instead.\n",
      "Epoch 1/10\n",
      "2880/2880 [==============================] - 6s 2ms/sample - loss: 1.0949 - acc: 0.3597\n",
      "Epoch 2/10\n",
      "2880/2880 [==============================] - 6s 2ms/sample - loss: 0.8163 - acc: 0.6545\n",
      "Epoch 3/10\n",
      "2880/2880 [==============================] - 6s 2ms/sample - loss: 0.5282 - acc: 0.7924\n",
      "Epoch 4/10\n",
      "2880/2880 [==============================] - 6s 2ms/sample - loss: 0.3811 - acc: 0.8684\n",
      "Epoch 5/10\n",
      "2880/2880 [==============================] - 6s 2ms/sample - loss: 0.2987 - acc: 0.8899\n",
      "Epoch 6/10\n",
      "2880/2880 [==============================] - 6s 2ms/sample - loss: 0.2184 - acc: 0.9208\n",
      "Epoch 7/10\n",
      "2880/2880 [==============================] - 6s 2ms/sample - loss: 0.1822 - acc: 0.9347\n",
      "Epoch 8/10\n",
      "2880/2880 [==============================] - 6s 2ms/sample - loss: 0.1534 - acc: 0.9444\n",
      "Epoch 9/10\n",
      "2880/2880 [==============================] - 6s 2ms/sample - loss: 0.1226 - acc: 0.9622\n",
      "Epoch 10/10\n",
      "2880/2880 [==============================] - 6s 2ms/sample - loss: 0.1047 - acc: 0.9663\n"
     ]
    },
    {
     "data": {
      "text/plain": [
       "<tensorflow.python.keras.callbacks.History at 0x1a3cfac3c8>"
      ]
     },
     "execution_count": 6,
     "metadata": {},
     "output_type": "execute_result"
    }
   ],
   "source": [
    "## fit model with training data\n",
    "model.fit(train_x, train_y, epochs=10, verbose=1)"
   ]
  },
  {
   "cell_type": "code",
   "execution_count": 7,
   "metadata": {},
   "outputs": [
    {
     "name": "stdout",
     "output_type": "stream",
     "text": [
      "720/720 [==============================] - 1s 844us/sample - loss: 0.0774 - acc: 0.9722\n"
     ]
    }
   ],
   "source": [
    "## evaluate model\n",
    "scores = model.evaluate(test_x, test_y, verbose=1)"
   ]
  },
  {
   "cell_type": "code",
   "execution_count": 15,
   "metadata": {},
   "outputs": [],
   "source": [
    "## save model as .h5\n",
    "filepath = \"cnn_rps.h5\"\n",
    "model.save(filepath)"
   ]
  },
  {
   "cell_type": "code",
   "execution_count": null,
   "metadata": {},
   "outputs": [],
   "source": []
  }
 ],
 "metadata": {
  "kernelspec": {
   "display_name": "Python 3",
   "language": "python",
   "name": "python3"
  },
  "language_info": {
   "codemirror_mode": {
    "name": "ipython",
    "version": 3
   },
   "file_extension": ".py",
   "mimetype": "text/x-python",
   "name": "python",
   "nbconvert_exporter": "python",
   "pygments_lexer": "ipython3",
   "version": "3.6.8"
  }
 },
 "nbformat": 4,
 "nbformat_minor": 2
}

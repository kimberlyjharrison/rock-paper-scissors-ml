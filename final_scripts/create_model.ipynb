{
 "cells": [
  {
   "cell_type": "code",
   "execution_count": null,
   "metadata": {},
   "outputs": [],
   "source": []
  },
  {
   "cell_type": "code",
   "execution_count": null,
   "metadata": {},
   "outputs": [],
   "source": []
  },
  {
   "cell_type": "code",
   "execution_count": 1,
   "metadata": {},
   "outputs": [],
   "source": [
    "from tensorflow import keras\n",
    "import tensorflow\n",
    "from tensorflow.keras.models import Sequential\n",
    "from tensorflow.keras.utils import to_categorical\n",
    "from tensorflow.keras.layers import Dense, Conv2D, MaxPooling2D, Dropout, BatchNormalization, Flatten\n",
    "from tensorflow.keras.datasets import mnist"
   ]
  },
  {
   "cell_type": "code",
   "execution_count": 83,
   "metadata": {},
   "outputs": [],
   "source": [
    "from sklearn.model_selection import train_test_split\n",
    "from keras.models import Sequential\n",
    "import pandas as pd\n",
    "import numpy as np\n",
    "from sklearn.preprocessing import MinMaxScaler\n",
    "# Dependencies to Visualize the model\n",
    "%matplotlib inline\n",
    "from IPython.display import Image, SVG\n",
    "import matplotlib.pyplot as plt\n",
    "import os\n",
    "from keras.utils import np_utils"
   ]
  },
  {
   "cell_type": "code",
   "execution_count": 3,
   "metadata": {},
   "outputs": [],
   "source": [
    "# data = pd.read_csv('rps_data2.csv')\n",
    "# dataset = np.array(data)\n",
    "# np.random.shuffle(dataset)\n",
    "# len(dataset)"
   ]
  },
  {
   "cell_type": "code",
   "execution_count": 4,
   "metadata": {},
   "outputs": [],
   "source": [
    "data = pd.read_csv(\"rps_data2.csv\")\n",
    "dataset = np.array(data)\n",
    "np.random.shuffle(dataset)\n",
    "features = dataset[:, 0:2500]\n",
    "features = features / 255.\n",
    "labels = dataset[:, 2500]\n",
    "labels = labels.reshape(labels.shape[0], 1)"
   ]
  },
  {
   "cell_type": "code",
   "execution_count": 87,
   "metadata": {},
   "outputs": [],
   "source": [
    "train_x, test_x, train_y, test_y = train_test_split(features, labels, random_state=0,\n",
    "                                                        test_size=0.2)"
   ]
  },
  {
   "cell_type": "code",
   "execution_count": 88,
   "metadata": {},
   "outputs": [],
   "source": [
    "from keras.utils import np_utils\n",
    "\n",
    "train_y = np_utils.to_categorical(train_y)\n",
    "test_y = np_utils.to_categorical(test_y)\n",
    "train_x = train_x.reshape(train_x.shape[0], 50, 50, 1)\n",
    "test_x = test_x.reshape(test_x.shape[0], 50, 50, 1)"
   ]
  },
  {
   "cell_type": "code",
   "execution_count": 7,
   "metadata": {},
   "outputs": [
    {
     "name": "stdout",
     "output_type": "stream",
     "text": [
      "WARNING:tensorflow:From /Users/kimberlyjharrison/anaconda3/envs/rps/lib/python3.6/site-packages/tensorflow/python/ops/resource_variable_ops.py:435: colocate_with (from tensorflow.python.framework.ops) is deprecated and will be removed in a future version.\n",
      "Instructions for updating:\n",
      "Colocations handled automatically by placer.\n",
      "WARNING:tensorflow:From /Users/kimberlyjharrison/anaconda3/envs/rps/lib/python3.6/site-packages/tensorflow/python/keras/layers/core.py:143: calling dropout (from tensorflow.python.ops.nn_ops) with keep_prob is deprecated and will be removed in a future version.\n",
      "Instructions for updating:\n",
      "Please use `rate` instead of `keep_prob`. Rate should be set to `rate = 1 - keep_prob`.\n"
     ]
    }
   ],
   "source": [
    "model = tensorflow.keras.Sequential()\n",
    "model.add(Conv2D(32, (3,3), input_shape=train_x.shape[1:], activation='relu'))\n",
    "model.add(MaxPooling2D(pool_size=(2,2), padding='same'))\n",
    "model.add(Conv2D(64, (3,3), activation='relu'))\n",
    "model.add(MaxPooling2D(pool_size=(5,5), padding='same'))\n",
    "model.add(Flatten())\n",
    "model.add(Dense(1024, activation='relu'))\n",
    "model.add(Dropout(0.2))\n",
    "model.add(Dense(3, activation='softmax'))\n",
    "\n",
    "model.compile(loss='categorical_crossentropy', optimizer='adam', metrics=['accuracy'])\n",
    "filepath = \"cnn.h5\""
   ]
  },
  {
   "cell_type": "code",
   "execution_count": 8,
   "metadata": {},
   "outputs": [
    {
     "name": "stdout",
     "output_type": "stream",
     "text": [
      "Train on 2880 samples, validate on 720 samples\n",
      "WARNING:tensorflow:From /Users/kimberlyjharrison/anaconda3/envs/rps/lib/python3.6/site-packages/tensorflow/python/ops/math_ops.py:3066: to_int32 (from tensorflow.python.ops.math_ops) is deprecated and will be removed in a future version.\n",
      "Instructions for updating:\n",
      "Use tf.cast instead.\n",
      "Epoch 1/10\n",
      "2880/2880 [==============================] - 7s 2ms/sample - loss: 1.0991 - acc: 0.3326 - val_loss: 1.0982 - val_acc: 0.3153\n",
      "Epoch 2/10\n",
      "2880/2880 [==============================] - 6s 2ms/sample - loss: 1.0720 - acc: 0.4500 - val_loss: 0.9674 - val_acc: 0.5403\n",
      "Epoch 3/10\n",
      "2880/2880 [==============================] - 6s 2ms/sample - loss: 0.7262 - acc: 0.6958 - val_loss: 0.6046 - val_acc: 0.7833\n",
      "Epoch 4/10\n",
      "2880/2880 [==============================] - 7s 2ms/sample - loss: 0.4653 - acc: 0.8285 - val_loss: 0.4208 - val_acc: 0.8694\n",
      "Epoch 5/10\n",
      "2880/2880 [==============================] - 7s 2ms/sample - loss: 0.3246 - acc: 0.8903 - val_loss: 0.2989 - val_acc: 0.8917\n",
      "Epoch 6/10\n",
      "2880/2880 [==============================] - 7s 2ms/sample - loss: 0.2310 - acc: 0.9236 - val_loss: 0.2057 - val_acc: 0.9333\n",
      "Epoch 7/10\n",
      "2880/2880 [==============================] - 7s 2ms/sample - loss: 0.1868 - acc: 0.9340 - val_loss: 0.1974 - val_acc: 0.9264\n",
      "Epoch 8/10\n",
      "2880/2880 [==============================] - 7s 2ms/sample - loss: 0.1350 - acc: 0.9573 - val_loss: 0.1489 - val_acc: 0.9514\n",
      "Epoch 9/10\n",
      "2880/2880 [==============================] - 7s 2ms/sample - loss: 0.1346 - acc: 0.9535 - val_loss: 0.1480 - val_acc: 0.9444\n",
      "Epoch 10/10\n",
      "2880/2880 [==============================] - 7s 2ms/sample - loss: 0.0958 - acc: 0.9691 - val_loss: 0.1214 - val_acc: 0.9611\n",
      "720/720 [==============================] - 0s 577us/sample - loss: 0.1214 - acc: 0.9611\n"
     ]
    }
   ],
   "source": [
    "model.fit(train_x, train_y, epochs=10)\n",
    "scores = model.evaluate(test_x, test_y, verbose=1)"
   ]
  },
  {
   "cell_type": "code",
   "execution_count": 9,
   "metadata": {},
   "outputs": [],
   "source": [
    "model.save(filepath)"
   ]
  },
  {
   "cell_type": "code",
   "execution_count": 202,
   "metadata": {},
   "outputs": [
    {
     "name": "stdout",
     "output_type": "stream",
     "text": [
      "720/720 [==============================] - 0s 482us/sample - loss: 0.1214 - acc: 0.9611\n"
     ]
    }
   ],
   "source": [
    "scores = model.evaluate(test_x, test_y, verbose=1)"
   ]
  },
  {
   "cell_type": "code",
   "execution_count": null,
   "metadata": {},
   "outputs": [],
   "source": []
  },
  {
   "cell_type": "code",
   "execution_count": null,
   "metadata": {},
   "outputs": [],
   "source": []
  },
  {
   "cell_type": "code",
   "execution_count": null,
   "metadata": {},
   "outputs": [],
   "source": []
  },
  {
   "cell_type": "code",
   "execution_count": null,
   "metadata": {},
   "outputs": [],
   "source": []
  },
  {
   "cell_type": "code",
   "execution_count": null,
   "metadata": {},
   "outputs": [],
   "source": []
  },
  {
   "cell_type": "code",
   "execution_count": null,
   "metadata": {},
   "outputs": [],
   "source": []
  },
  {
   "cell_type": "code",
   "execution_count": 89,
   "metadata": {},
   "outputs": [],
   "source": [
    "def rps(cap):\n",
    "    if cap == 0:\n",
    "        return(\"paper\")\n",
    "    elif cap == 1:\n",
    "        return(\"rock\")\n",
    "    elif cap == 2:\n",
    "        return(\"scissors\")\n",
    "    else:\n",
    "        print('invalid')"
   ]
  },
  {
   "cell_type": "code",
   "execution_count": 90,
   "metadata": {},
   "outputs": [],
   "source": [
    "filepath = '10.png'"
   ]
  },
  {
   "cell_type": "code",
   "execution_count": 91,
   "metadata": {},
   "outputs": [],
   "source": [
    "# # Import the image using the `load_img` function in keras preprocessing\n",
    "# from tensorflow.keras.preprocessing import image\n",
    "\n",
    "# image_size = (50, 50)\n",
    "# im = image.load_img(filepath, target_size=image_size, color_mode=\"grayscale\")\n",
    "# im"
   ]
  },
  {
   "cell_type": "code",
   "execution_count": 92,
   "metadata": {},
   "outputs": [],
   "source": [
    "# from tensorflow.keras.preprocessing.image import img_to_array\n",
    "# image = img_to_array(im)\n",
    "# image.shape\n",
    "# img = image.flatten().reshape(-1, 50*50)\n",
    "# img.shape\n",
    "# img_r = img.reshape(-1, 50, 50, 1)\n",
    "# plt.imshow(img_r.reshape(50, 50), cmap=plt.cm.Greys)"
   ]
  },
  {
   "cell_type": "code",
   "execution_count": 93,
   "metadata": {},
   "outputs": [],
   "source": [
    "# len(img)"
   ]
  },
  {
   "cell_type": "code",
   "execution_count": 94,
   "metadata": {},
   "outputs": [],
   "source": [
    "# print(f\"One-Hot-Encoded Prediction: {model.predict(img_r).round()}\")\n",
    "# print(f\"Predicted class: {model.predict_classes(img_r)}\")\n",
    "# print(f\"Final Answer: {rps(img_r)}\")"
   ]
  },
  {
   "cell_type": "code",
   "execution_count": 142,
   "metadata": {},
   "outputs": [],
   "source": [
    "import cv2\n",
    "from tensorflow.keras.preprocessing import image"
   ]
  },
  {
   "cell_type": "code",
   "execution_count": 194,
   "metadata": {},
   "outputs": [],
   "source": [
    "image_path = 'cap2.png'\n",
    "img = image.load_img(image_path, target_size=(50,50), color_mode='grayscale')"
   ]
  },
  {
   "cell_type": "code",
   "execution_count": 195,
   "metadata": {},
   "outputs": [
    {
     "data": {
      "text/plain": [
       "(1, 50, 50, 1)"
      ]
     },
     "execution_count": 195,
     "metadata": {},
     "output_type": "execute_result"
    }
   ],
   "source": [
    "# Preprocess image for model prediction\n",
    "\n",
    "\n",
    "x = image.img_to_array(img)\n",
    "x = np.expand_dims(x, axis=0)\n",
    "x.shape"
   ]
  },
  {
   "cell_type": "code",
   "execution_count": 207,
   "metadata": {},
   "outputs": [
    {
     "data": {
      "text/plain": [
       "0"
      ]
     },
     "execution_count": 207,
     "metadata": {},
     "output_type": "execute_result"
    }
   ],
   "source": [
    "model.predict_classes(x)[0]"
   ]
  },
  {
   "cell_type": "code",
   "execution_count": 206,
   "metadata": {
    "scrolled": true
   },
   "outputs": [
    {
     "name": "stdout",
     "output_type": "stream",
     "text": [
      "One-Hot-Encoded Prediction: [1. 0. 0.]\n",
      "Predicted class: 0\n",
      "Final Answer: paper\n"
     ]
    }
   ],
   "source": [
    "print(f\"One-Hot-Encoded Prediction: {model.predict(x)[0].round()}\")\n",
    "print(f\"Predicted class: {model.predict_classes(x)[0]}\")\n",
    "print(f\"Final Answer: {rps(model.predict_classes(x)[0])}\")"
   ]
  },
  {
   "cell_type": "code",
   "execution_count": null,
   "metadata": {},
   "outputs": [],
   "source": []
  }
 ],
 "metadata": {
  "kernelspec": {
   "display_name": "Python 3",
   "language": "python",
   "name": "python3"
  },
  "language_info": {
   "codemirror_mode": {
    "name": "ipython",
    "version": 3
   },
   "file_extension": ".py",
   "mimetype": "text/x-python",
   "name": "python",
   "nbconvert_exporter": "python",
   "pygments_lexer": "ipython3",
   "version": "3.6.8"
  }
 },
 "nbformat": 4,
 "nbformat_minor": 2
}
